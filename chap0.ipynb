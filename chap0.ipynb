{
 "cells": [
  {
   "cell_type": "markdown",
   "id": "50135b97-d08b-48be-b952-c77cf64b704e",
   "metadata": {},
   "source": [
    "# Chapter 0. Linear Algebra Revisited"
   ]
  }
 ],
 "metadata": {
  "kernelspec": {
   "display_name": "Python 3 (ipykernel)",
   "language": "python",
   "name": "python3"
  },
  "language_info": {
   "codemirror_mode": {
    "name": "ipython",
    "version": 3
   },
   "file_extension": ".py",
   "mimetype": "text/x-python",
   "name": "python",
   "nbconvert_exporter": "python",
   "pygments_lexer": "ipython3",
   "version": "3.11.13"
  }
 },
 "nbformat": 4,
 "nbformat_minor": 5
}
