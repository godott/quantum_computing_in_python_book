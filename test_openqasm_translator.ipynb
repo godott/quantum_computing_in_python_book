{
 "cells": [
  {
   "cell_type": "markdown",
   "metadata": {},
   "source": [
    "# Testing OpenQASM3 to Quantikz Translator\n",
    "\n",
    "This notebook demonstrates the OpenQASM3 to quantikz translator functionality in the qsip package."
   ]
  },
  {
   "cell_type": "code",
   "execution_count": 1,
   "metadata": {},
   "outputs": [],
   "source": [
    "# Import the translator\n",
    "from qsip.translators import print_tex\n",
    "import os\n",
    "os.environ['PATH'] = '/Library/TeX/texbin:' + os.environ.get('PATH', '')"
   ]
  },
  {
   "cell_type": "markdown",
   "metadata": {},
   "source": [
    "## Example 1: Bell State Circuit"
   ]
  },
  {
   "cell_type": "code",
   "execution_count": 2,
   "metadata": {},
   "outputs": [
    {
     "name": "stdout",
     "output_type": "stream",
     "text": [
      "Generated LaTeX code: \\begin{quantikz}\n",
      "    \\lstick{$|q[0]\\rangle$} & \\gate{H} & \\ctrl{1} & \\meter{} & \\setwiretype{c} & \\qw & \\qw & \\qw \\\\\n",
      "    \\lstick{$|q[1]\\rangle$} & \\qw & \\targ{} & \\qw & \\qw & \\meter{} & \\setwiretype{c} & \\qw\n",
      "\\end{quantikz}\n"
     ]
    }
   ],
   "source": [
    "# Bell state preparation circuit\n",
    "bell_circuit = \"\"\"\n",
    "OPENQASM 3.0;\n",
    "include \"stdgates.inc\";\n",
    "\n",
    "qubit[2] q;\n",
    "bit[2] c;\n",
    "\n",
    "// Create Bell state\n",
    "h q[0];\n",
    "cx q[0], q[1];\n",
    "\n",
    "// Measure\n",
    "c[0] = measure q[0];\n",
    "c[1] = measure q[1];\n",
    "\"\"\"\n",
    "\n",
    "# Get LaTeX code\n",
    "latex_code = print_tex(bell_circuit, save_fig=True,latex=True)\n",
    "print(\"Generated LaTeX code:\", latex_code)"
   ]
  },
  {
   "cell_type": "markdown",
   "metadata": {},
   "source": [
    "## Example 2: GHZ State"
   ]
  },
  {
   "cell_type": "code",
   "execution_count": 3,
   "metadata": {},
   "outputs": [
    {
     "name": "stdout",
     "output_type": "stream",
     "text": [
      "GHZ State Circuit:\n"
     ]
    },
    {
     "data": {
      "image/png": "[encoded data removed]",
      "text/plain": [
       "<IPython.core.display.Image object>"
      ]
     },
     "metadata": {},
     "output_type": "display_data"
    }
   ],
   "source": [
    "# GHZ state preparation\n",
    "ghz_circuit = \"\"\"\n",
    "OPENQASM 3.0;\n",
    "include \"stdgates.inc\";\n",
    "\n",
    "qubit[3] q;\n",
    "\n",
    "// Create GHZ state\n",
    "h q[0];\n",
    "cx q[0], q[1];\n",
    "cx q[1], q[2];\n",
    "\"\"\"\n",
    "\n",
    "print(\"GHZ State Circuit:\")\n",
    "print_tex(ghz_circuit)"
   ]
  },
  {
   "cell_type": "markdown",
   "metadata": {},
   "source": [
    "## Example 3: Quantum Teleportation"
   ]
  },
  {
   "cell_type": "code",
   "execution_count": 4,
   "metadata": {},
   "outputs": [
    {
     "name": "stdout",
     "output_type": "stream",
     "text": [
      "Quantum Teleportation Circuit:\n",
      "\\begin{quantikz}\n",
      "    \\lstick{$|q[0]\\rangle$} & \\qw & \\qw & \\ctrl{1} & \\gate{H} & \\meter{}\\wire[d][2]{c} & \\setwiretype{c} & \\qw & \\qw & \\qw \\\\\n",
      "    \\lstick{$|q[1]\\rangle$} & \\gate{H} & \\ctrl{1} & \\targ{} & \\qw & \\qw & \\qw & \\meter{}\\wire[d][1]{c} & \\setwiretype{c} & \\qw \\\\\n",
      "    \\lstick{$|q[2]\\rangle$} & \\qw & \\targ{} & \\qw & \\qw & \\gate{Z} & \\qw & \\gate{X} & \\qw & \\qw\n",
      "\\end{quantikz}\n"
     ]
    }
   ],
   "source": [
    "# Quantum teleportation circuit\n",
    "teleport_circuit = \"\"\"\n",
    "OPENQASM 3.0;\n",
    "include \"stdgates.inc\";\n",
    "\n",
    "qubit[3] q;\n",
    "bit[2] c;\n",
    "\n",
    "// Create entangled pair between Alice and Bob\n",
    "h q[1];\n",
    "cx q[1], q[2];\n",
    "\n",
    "// Alice performs Bell measurement\n",
    "cx q[0], q[1];\n",
    "h q[0];\n",
    "c[0] = measure q[0];\n",
    "c[1] = measure q[1];\n",
    "\n",
    "// Bob's corrections (classical control not shown)\n",
    "if (c[1]) x q[2];\n",
    "if (c[0]) z q[2];\n",
    "\"\"\"\n",
    "\n",
    "print(\"Quantum Teleportation Circuit:\")\n",
    "print(print_tex(teleport_circuit, latex=True))"
   ]
  },
  {
   "cell_type": "markdown",
   "metadata": {},
   "source": [
    "## Example 4: Parameterized Rotation Gates"
   ]
  },
  {
   "cell_type": "code",
   "execution_count": 5,
   "metadata": {},
   "outputs": [
    {
     "name": "stdout",
     "output_type": "stream",
     "text": [
      "Rotation Gates Circuit:\n",
      "Circuit saved to rotation_circuit.pdf\n"
     ]
    },
    {
     "data": {
      "image/png": "[encoded data removed]",
      "text/plain": [
       "<IPython.core.display.Image object>"
      ]
     },
     "metadata": {},
     "output_type": "display_data"
    }
   ],
   "source": [
    "# Circuit with rotation gates\n",
    "rotation_circuit = \"\"\"\n",
    "OPENQASM 3.0;\n",
    "include \"stdgates.inc\";\n",
    "\n",
    "qubit[2] q;\n",
    "\n",
    "// Apply various rotation gates\n",
    "rx(pi/2) q[0];\n",
    "ry(pi/4) q[1];\n",
    "rz(pi/3) q[0];\n",
    "\n",
    "// U gate with parameters\n",
    "u(pi/2, pi/4, pi/6) q[1];\n",
    "\"\"\"\n",
    "\n",
    "print(\"Rotation Gates Circuit:\")\n",
    "print_tex(rotation_circuit, save_fig=True)"
   ]
  },
  {
   "cell_type": "markdown",
   "metadata": {},
   "source": [
    "## Example 5: Multi-Qubit Gates and Barriers"
   ]
  },
  {
   "cell_type": "code",
   "execution_count": 6,
   "metadata": {},
   "outputs": [
    {
     "name": "stdout",
     "output_type": "stream",
     "text": [
      "Complex Circuit:\n",
      "LaTeX compilation failed:\n",
      "/texlive/2025/texmf-dist/tex/context/base/mkii/supp-pdf.mkii\n",
      "[Loading MPS to PDF converter (version 2006.09.02).]\n",
      ") (/usr/local/texlive/2025/texmf-dist/tex/latex/epstopdf-pkg/epstopdf-base.sty\n",
      "(/usr/local/texlive/2025/texmf-dist/tex/latex/latexconfig/epstopdf-sys.cfg))\n",
      "! Undefined control sequence.\n",
      "<recently read> \\barrier \n",
      "                         \n",
      "l.11 \\end\n",
      "         {quantikz}\n",
      "\n",
      "[1\n",
      "Non-PDF special ignored!\n",
      "<special> papersize=409.69168pt,115.99171pt\n",
      "{/usr/local/texlive/2025/texmf-var/fonts/map/pdftex/updmap/pdftex.map}]\n",
      "(./circuit.aux) )\n",
      "(see the transcript file for additional information)</usr/local/texlive/2025/te\n",
      "xmf-dist/fonts/type1/public/amsfonts/cm/cmmi10.pfb></usr/local/texlive/2025/tex\n",
      "mf-dist/fonts/type1/public/amsfonts/cm/cmr10.pfb></usr/local/texlive/2025/texmf\n",
      "-dist/fonts/type1/public/amsfonts/cm/cmsy10.pfb></usr/local/texlive/2025/texmf-\n",
      "dist/fonts/type1/public/amsfonts/cm/cmsy7.pfb>\n",
      "Output written on circuit.pdf (1 page, 39229 bytes).\n",
      "Transcript written on circuit.log.\n",
      "\n"
     ]
    },
    {
     "ename": "RuntimeError",
     "evalue": "Failed to compile LaTeX",
     "output_type": "error",
     "traceback": [
      "\u001b[0;31m---------------------------------------------------------------------------\u001b[0m",
      "\u001b[0;31mRuntimeError\u001b[0m                              Traceback (most recent call last)",
      "Cell \u001b[0;32mIn[6], line 33\u001b[0m\n\u001b[1;32m      2\u001b[0m complex_circuit \u001b[38;5;241m=\u001b[39m \u001b[38;5;124m\"\"\"\u001b[39m\n\u001b[1;32m      3\u001b[0m \u001b[38;5;124mOPENQASM 3.0;\u001b[39m\n\u001b[1;32m      4\u001b[0m \u001b[38;5;124minclude \u001b[39m\u001b[38;5;124m\"\u001b[39m\u001b[38;5;124mstdgates.inc\u001b[39m\u001b[38;5;124m\"\u001b[39m\u001b[38;5;124m;\u001b[39m\n\u001b[0;32m   (...)\u001b[0m\n\u001b[1;32m     29\u001b[0m \u001b[38;5;124mtdg q[3];\u001b[39m\n\u001b[1;32m     30\u001b[0m \u001b[38;5;124m\"\"\"\u001b[39m\n\u001b[1;32m     32\u001b[0m \u001b[38;5;28mprint\u001b[39m(\u001b[38;5;124m\"\u001b[39m\u001b[38;5;124mComplex Circuit:\u001b[39m\u001b[38;5;124m\"\u001b[39m)\n\u001b[0;32m---> 33\u001b[0m \u001b[43mprint_tex\u001b[49m\u001b[43m(\u001b[49m\u001b[43mcomplex_circuit\u001b[49m\u001b[43m)\u001b[49m\n",
      "File \u001b[0;32m~/CodeProjects/Tutorials/quantum_book/qsip/translators/openqasm_to_quantikz.py:969\u001b[0m, in \u001b[0;36mprint_tex\u001b[0;34m(openqasm_string, latex, save_fig, filename, show, border, options)\u001b[0m\n\u001b[1;32m    967\u001b[0m     \u001b[38;5;28mprint\u001b[39m(\u001b[38;5;124m\"\u001b[39m\u001b[38;5;124mLaTeX compilation failed:\u001b[39m\u001b[38;5;124m\"\u001b[39m)\n\u001b[1;32m    968\u001b[0m     \u001b[38;5;28mprint\u001b[39m(result\u001b[38;5;241m.\u001b[39mstdout[\u001b[38;5;241m-\u001b[39m\u001b[38;5;241m1000\u001b[39m:])  \u001b[38;5;66;03m# Last 1000 chars\u001b[39;00m\n\u001b[0;32m--> 969\u001b[0m     \u001b[38;5;28;01mraise\u001b[39;00m \u001b[38;5;167;01mRuntimeError\u001b[39;00m(\u001b[38;5;124m\"\u001b[39m\u001b[38;5;124mFailed to compile LaTeX\u001b[39m\u001b[38;5;124m\"\u001b[39m)\n\u001b[1;32m    971\u001b[0m pdf_file \u001b[38;5;241m=\u001b[39m os\u001b[38;5;241m.\u001b[39mpath\u001b[38;5;241m.\u001b[39mjoin(tmpdir, \u001b[38;5;124m\"\u001b[39m\u001b[38;5;124mcircuit.pdf\u001b[39m\u001b[38;5;124m\"\u001b[39m)\n\u001b[1;32m    973\u001b[0m \u001b[38;5;28;01mif\u001b[39;00m save_fig:\n",
      "\u001b[0;31mRuntimeError\u001b[0m: Failed to compile LaTeX"
     ]
    }
   ],
   "source": [
    "# Complex circuit with various gates\n",
    "complex_circuit = \"\"\"\n",
    "OPENQASM 3.0;\n",
    "include \"stdgates.inc\";\n",
    "\n",
    "qubit[4] q;\n",
    "\n",
    "// Single-qubit gates\n",
    "h q[0];\n",
    "x q[1];\n",
    "y q[2];\n",
    "z q[3];\n",
    "\n",
    "// Two-qubit gates\n",
    "cx q[0], q[2];\n",
    "cy q[1], q[3];\n",
    "swap q[0], q[1];\n",
    "\n",
    "// Barrier\n",
    "barrier q;\n",
    "\n",
    "// Three-qubit gate\n",
    "ccx q[0], q[1], q[2];\n",
    "\n",
    "// Phase gates\n",
    "s q[0];\n",
    "t q[1];\n",
    "sdg q[2];\n",
    "tdg q[3];\n",
    "\"\"\"\n",
    "\n",
    "print(\"Complex Circuit:\")\n",
    "print_tex(complex_circuit)"
   ]
  },
  {
   "cell_type": "markdown",
   "metadata": {},
   "source": [
    "## Example 6: Reset Operation"
   ]
  },
  {
   "cell_type": "code",
   "execution_count": null,
   "metadata": {},
   "outputs": [],
   "source": [
    "# Circuit with reset\n",
    "reset_circuit = \"\"\"\n",
    "OPENQASM 3.0;\n",
    "include \"stdgates.inc\";\n",
    "\n",
    "qubit[2] q;\n",
    "\n",
    "// Apply some gates\n",
    "h q[0];\n",
    "cx q[0], q[1];\n",
    "\n",
    "// Reset qubit 0\n",
    "reset q[0];\n",
    "\n",
    "// Continue with more gates\n",
    "x q[0];\n",
    "cx q[0], q[1];\n",
    "\"\"\"\n",
    "\n",
    "print(\"Circuit with Reset:\")\n",
    "print_tex(reset_circuit)"
   ]
  },
  {
   "cell_type": "code",
   "execution_count": null,
   "metadata": {},
   "outputs": [],
   "source": []
  },
  {
   "cell_type": "markdown",
   "metadata": {},
   "source": [
    "## Example 7: Custom Gates"
   ]
  },
  {
   "cell_type": "code",
   "execution_count": null,
   "metadata": {},
   "outputs": [],
   "source": [
    "# Circuit with custom gates (will be shown as boxes)\n",
    "custom_circuit = \"\"\"\n",
    "OPENQASM 3.0;\n",
    "\n",
    "qubit[3] q;\n",
    "\n",
    "// Custom single-qubit gate\n",
    "mygate q[0];\n",
    "\n",
    "// Custom two-qubit gate\n",
    "custom_entangle q[0], q[1];\n",
    "\n",
    "// Custom parameterized gate\n",
    "rotate_custom(0.5, 1.2) q[2];\n",
    "\"\"\"\n",
    "\n",
    "print(\"Circuit with Custom Gates:\")\n",
    "print(print_tex(custom_circuit, latex=True))"
   ]
  },
  {
   "cell_type": "markdown",
   "metadata": {},
   "source": [
    "## Example 8: Save Circuit to PDF\n",
    "\n",
    "Uncomment the following cell to save a circuit as PDF (requires LaTeX installation):"
   ]
  },
  {
   "cell_type": "code",
   "execution_count": null,
   "metadata": {},
   "outputs": [],
   "source": [
    "# Save the Bell state circuit to PDF\n",
    "# print_qtz(bell_circuit, save_fig=True, filename=\"bell_state_circuit.pdf\", show=False)\n",
    "# print(\"Circuit saved to bell_state_circuit.pdf\")"
   ]
  },
  {
   "cell_type": "markdown",
   "metadata": {},
   "source": [
    "## Example 9: Error Handling"
   ]
  },
  {
   "cell_type": "code",
   "execution_count": null,
   "metadata": {},
   "outputs": [],
   "source": [
    "# Circuit with an error (undefined qubit)\n",
    "error_circuit = \"\"\"\n",
    "OPENQASM 3.0;\n",
    "include \"stdgates.inc\";\n",
    "\n",
    "qubit[2] q;\n",
    "\n",
    "h q[0];\n",
    "cx q[0], r[1];  // Error: r is not defined\n",
    "\"\"\"\n",
    "\n",
    "try:\n",
    "    print_qtz(error_circuit, latex=True)\n",
    "except ValueError as e:\n",
    "    print(f\"Caught expected error: {e}\")"
   ]
  },
  {
   "cell_type": "markdown",
   "metadata": {},
   "source": [
    "## LaTeX Output Format\n",
    "\n",
    "The generated LaTeX code uses the quantikz package. To use it in a LaTeX document:\n",
    "\n",
    "```latex\n",
    "\\documentclass{article}\n",
    "\\usepackage{tikz}\n",
    "\\usetikzlibrary{quantikz}\n",
    "\n",
    "\\begin{document}\n",
    "\n",
    "% Insert the generated quantikz code here\n",
    "\n",
    "\\end{document}\n",
    "```"
   ]
  }
 ],
 "metadata": {
  "kernelspec": {
   "display_name": "Python 3 (ipykernel)",
   "language": "python",
   "name": "python3"
  },
  "language_info": {
   "codemirror_mode": {
    "name": "ipython",
    "version": 3
   },
   "file_extension": ".py",
   "mimetype": "text/x-python",
   "name": "python",
   "nbconvert_exporter": "python",
   "pygments_lexer": "ipython3",
   "version": "3.11.13"
  }
 },
 "nbformat": 4,
 "nbformat_minor": 4
}
