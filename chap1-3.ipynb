{
 "cells": [
  {
   "cell_type": "markdown",
   "id": "d7a686cb-a4ab-4080-9a26-0a56e5e49cca",
   "metadata": {},
   "source": [
    "# Chapter 1.3 Single-Qubit Gates\n",
    "\n",
    "In classical computing, a single bit can be manipulated by a small set of logic gates. Among these, only two are **reversible**: the **identity** gate (which does nothing) and the **NOT** gate (which flips 0 to 1 and 1 to 0). Most other classical gates—such as AND, OR, or reset-to-zero—are **irreversible**, meaning information is lost and the input cannot be recovered from the output.\n",
    "\n",
    "Quantum computing, however, operates under different physical principles. Qubits can exist in **superpositions** of $|0\\rangle$ and $|1\\rangle$, and their evolution must obey the rules of quantum mechanics. The key requirement is that all transformations of quantum states must preserve **total probability** and remain **reversible**. This leads us to a central mathematical concept: the **unitary matrix**.\n",
    "\n",
    "\n",
    "## Unitary Matrices\n",
    "\n",
    "In quantum mechanics, the evolution of a closed system is always described by a **unitary operator**. These operators act on quantum state vectors and preserve both their **normalization** and the **inner products** between them. This ensures that probabilities remain consistent and that no information is lost during evolution.\n",
    "\n",
    "A matrix $U$ is **unitary** if it satisfies:\n",
    "\n",
    "$$\n",
    "U^\\dagger U = U U^\\dagger = I\n",
    "$$\n",
    "\n",
    "Here, $U^\\dagger$ denotes the **conjugate transpose** (also called the Hermitian adjoint), and $I$ is the identity matrix. This condition guarantees that applying $U$ does not stretch, shrink, or distort quantum states—it simply rotates them within the space of allowed states.\n",
    "\n",
    "One crucial consequence of unitarity is **reversibility**. For any unitary matrix $U$, its inverse is just its transpose conjugate:\n",
    "\n",
    "$$\n",
    "U^{-1} = U^\\dagger\n",
    "$$\n",
    "\n",
    "This stands in stark contrast to most classical logic gates. While classical systems often discard information, quantum systems must retain it. Every quantum gate must be reversible, and therefore must be represented by a unitary matrix.\n",
    "\n",
    "In quantum computing, **all single-qubit gates** are 2×2 unitary matrices. In this section, we will go over some notable examples include the **Pauli gates**, **Hadamard gate**, and **phase gates**. These gates manipulate the qubit’s amplitude and phase, often producing interference and entanglement when combined with multi-qubit gates.\n",
    "\n",
    "Understanding unitary matrices is fundamental to designing and analyzing quantum circuits: they define the space of all physically allowed operations that can be applied to qubits **without measurement**.\n",
    "\n",
    "We can define a Python function to test if a matrix is unitary:"
   ]
  },
  {
   "cell_type": "code",
   "execution_count": null,
   "id": "e7770a88-0729-4dcf-964b-d042a2f9a948",
   "metadata": {},
   "outputs": [],
   "source": [
    "def is_unitary(U):\n",
    "    return np.allclose(U @ U.conj().T, np.eye(U.shape[0]))"
   ]
  },
  {
   "cell_type": "markdown",
   "id": "7992cf40-9fe1-4802-b215-15efd484717e",
   "metadata": {},
   "source": [
    "### An Intuitive Understanding of Unitary Matrices\n",
    "\n",
    "It helps to draw an analogy with something more familiar: **orthogonal matrices** from real linear algebra.\n",
    "\n",
    "In a real vector space, an orthogonal matrix performs a **rotation or reflection** that preserves vector lengths and angles. If you apply an orthogonal matrix $O$ to a vector $\\vec{v}$, the result $O\\vec{v}$ will have the same norm as $\\vec{v}$. Geometrically, the shape of the space is preserved—no stretching or skewing is allowed.\n",
    "\n",
    "Quantum mechanics extends this idea to **complex vector spaces**. Instead of orthogonal matrices, we now require transformations to be **unitary**. A unitary matrix does the same thing as an orthogonal matrix, but in a complex setting: it preserves lengths (norms) and inner products between vectors,\n",
    "\n",
    "This is not just a mathematical nicety—it’s essential to **probability conservation** in quantum theory,  i.e.,\n",
    "\n",
    "$$\n",
    "\\| U|\\psi\\rangle \\|^2 = \\langle \\psi | U^\\dagger U | \\psi \\rangle = \\langle \\psi | I | \\psi \\rangle = \\langle \\psi | \\psi \\rangle = 1\n",
    "$$\n",
    "\n",
    "\n",
    "Quantum states are described by unit vectors in a complex Hilbert space. The squared magnitudes of a state’s components correspond to measurement probabilities. If a transformation were to stretch or shrink a state, it would alter these probabilities and potentially make them sum to something other than 1—a physical impossibility.\n",
    "\n",
    "Unitary matrices guarantee that this cannot happen. They ensure that:\n",
    "- **Quantum states remain normalized** (total probability stays 1),\n",
    "- **Quantum evolution is reversible**.\n",
    "\n",
    "In short, a unitary matrix is to a quantum state what a perfect rotation is to a real vector: it moves it around without changing its size or structure. This preservation of geometric structure is what makes unitary matrices the foundation of all valid quantum operations.\n"
   ]
  },
  {
   "cell_type": "markdown",
   "id": "05595d4c-3a43-4a09-b6ff-abe4564d319d",
   "metadata": {},
   "source": [
    "## Standard Single-Qubit Gates\n",
    "\n",
    "Now that we've introduced **unitary matrices** as the mathematical foundation of all quantum operations, we can turn our attention to their most familiar forms in quantum circuits: the **1-qubit gates**.\n",
    "\n",
    "In classical logic, there are only a handful of single-bit operations. Among these, only two are reversible: the **identity** gate (which does nothing) and the **NOT** gate (which flips 0 to 1 and vice versa). Quantum computing, by contrast, operates in a much richer space. Because qubits can exist in arbitrary superpositions of $|0\\rangle$ and $|1\\rangle$, the gates that act on them must be able to **rotate**, **reflect**, and **interfere** amplitudes across a complex vector space—while still preserving the unitary condition.\n",
    "\n",
    "All valid 1-qubit gates are represented by **2×2 unitary matrices**, and even the simplest among them already hint at the power of quantum transformations.\n",
    "\n",
    "\n",
    "### Pauli Gates\n",
    "\n",
    "\n",
    "\n",
    "The most basic quantum gates are the four **Pauli operators**, which form the backbone of many quantum algorithms and measurement schemes. They are:\n",
    "\n",
    "- $I$: Identity (leaves the qubit unchanged)\n",
    "- $X$: Bit-flip\n",
    "- $Y$: Bit-and-phase flip\n",
    "- $Z$: Phase-flip\n",
    "\n",
    "their matrix format are:\n",
    "\n",
    "$$\n",
    "I = \\begin{bmatrix} 1 & 1 \\\\ 0 & 1 \\end{bmatrix}, \\quad\n",
    "X = \\begin{bmatrix} 0 & 1 \\\\ 1 & 0 \\end{bmatrix}, \\quad\n",
    "Y = \\begin{bmatrix} 0 & -i \\\\ i & 0 \\end{bmatrix}, \\quad\n",
    "Z = \\begin{bmatrix} 1 & 0 \\\\ 0 & -1 \\end{bmatrix}\n",
    "$$\n",
    "\n",
    "These are also denoted using index notation:\n",
    "- $\\sigma_0 = I$\n",
    "- $\\sigma_1 = X$\n",
    "- $\\sigma_2 = Y$\n",
    "- $\\sigma_3 = Z$\n",
    "\n",
    "All Pauli matrices are:\n",
    "- **Unitary**: they preserve state norms and reversibility.\n",
    "- **Involutory**: $\\sigma_i^2 = I$, so applying the same gate twice brings the state back to where it started.\n"
   ]
  },
  {
   "cell_type": "markdown",
   "id": "f51af0a6-61b5-418f-8487-a882c0fa57d9",
   "metadata": {},
   "source": "### Pauli-I Gate (Identity)\n\nThe **Pauli-I gate** is the trivial *no-operation* gate on a single qubit. It is represented by the **identity matrix**:\n\n$$\nI = \\begin{bmatrix} 1 & 0 \\\\\\\\ 0 & 1 \\end{bmatrix}\n$$\n\nGraphically, it is often drawn as a wire with a labeled box:\n\n```{figure} figures/pauli_i.png\n:width: 100px\n:align: center\n:alt: Pauli I\n\nPauli I gate visualization\n```"
  },
  {
   "cell_type": "markdown",
   "id": "2081774c-93f0-4c45-8a15-417d180489d2",
   "metadata": {},
   "source": "### Pauli-X Gate (Bit Flip)\n\nThe **Pauli-X gate**, also known simply as the **X gate**, performs a bit flip. It swaps the computational basis states $|0⟩$ and $|1⟩$, just like a classical NOT gate.\n\nIt is represented by the matrix:\n\n$$\nX = \\begin{bmatrix}\n0 & 1 \\\\\\\\\n1 & 0\n\\end{bmatrix}\n$$\n\nIn quantum circuits, it's typically drawn as:\n\n```{figure} figures/pauli_x.png\n:width: 100px\n:align: center\n:alt: Pauli X\n\nPauli X gate visualization\n```"
  },
  {
   "cell_type": "code",
   "execution_count": null,
   "id": "581f71e7-e2a5-4875-8d27-c77a2df6b9db",
   "metadata": {},
   "outputs": [],
   "source": []
  }
 ],
 "metadata": {
  "kernelspec": {
   "display_name": "Python 3 (ipykernel)",
   "language": "python",
   "name": "python3"
  },
  "language_info": {
   "codemirror_mode": {
    "name": "ipython",
    "version": 3
   },
   "file_extension": ".py",
   "mimetype": "text/x-python",
   "name": "python",
   "nbconvert_exporter": "python",
   "pygments_lexer": "ipython3",
   "version": "3.11.13"
  }
 },
 "nbformat": 4,
 "nbformat_minor": 5
}