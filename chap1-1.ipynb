{
 "cells": [
  {
   "cell_type": "markdown",
   "id": "f1fb6078-c507-472a-aac8-f6becd84bdb2",
   "metadata": {},
   "source": [
    "# Chapter 1.1 The `qsip` Package\n",
    "\n",
    "To make your journey through quantum computing more interactive and hands-on, this book is accompanied by a Python package called **`qsip`** (Quantum Simulation and Interactive Playground). This package provides a collection of tools, visualizations, and utilities that will help you simulate quantum circuits, visualize quantum states, and experiment with quantum algorithms as you progress through the chapters.\n",
    "\n",
    "### What is `qsip`?\n",
    "\n",
    "`qsip` is a lightweight, educational Python library designed to:\n",
    "- **Simulate quantum circuits** at the level of state vectors and basic gates.\n",
    "- **Visualize quantum states** using tools like the Bloch sphere.\n",
    "- **Provide utility functions** for quantum information processing, such as working with qubits, gates, and measurements.\n",
    "- **Support interactive learning** by integrating with Jupyter notebooks and Python scripts used throughout this book.\n",
    "\n",
    "### How to Install `qsip`\n",
    "\n",
    "If you are working in a local Python environment with [the repository of our book](https://github.com/godott/quantum_computing_in_python_book), you can install `qsip` directly from the source code provided with this book. In your terminal, navigate to the root directory of the book and run:\n",
    "\n",
    "```bash\n",
    "pip install -e .\n",
    "```\n",
    "\n",
    "This command will install `qsip` in \"editable\" mode, so any changes you make to the code will be immediately reflected in your environment. If you are using an online platform or a pre-configured environment, `qsip` may already be installed for you.\n",
    "\n",
    "**Dependencies:**  \n",
    "`qsip` relies on standard scientific Python libraries such as `numpy`, `scipy`, and `matplotlib`. These will be installed automatically if you use the command above.\n",
    "\n",
    "### How is `qsip` Related to This Book?\n",
    "\n",
    "Throughout this book, you will find code examples and exercises that use the `qsip` package. It serves as the computational backbone for:\n",
    "- Simulating quantum circuits and algorithms.\n",
    "- Visualizing quantum states and operations (e.g., drawing Bloch spheres).\n",
    "- Exploring quantum concepts interactively.\n",
    "\n",
    "By using `qsip`, you can follow along with the text, run the provided code, and experiment with your own ideas. This hands-on approach will deepen your understanding of quantum computing concepts and prepare you for more advanced topics.\n"
   ]
  }
 ],
 "metadata": {
  "kernelspec": {
   "display_name": "Python 3 (ipykernel)",
   "language": "python",
   "name": "python3"
  },
  "language_info": {
   "codemirror_mode": {
    "name": "ipython",
    "version": 3
   },
   "file_extension": ".py",
   "mimetype": "text/x-python",
   "name": "python",
   "nbconvert_exporter": "python",
   "pygments_lexer": "ipython3",
   "version": "3.11.13"
  }
 },
 "nbformat": 4,
 "nbformat_minor": 5
}
